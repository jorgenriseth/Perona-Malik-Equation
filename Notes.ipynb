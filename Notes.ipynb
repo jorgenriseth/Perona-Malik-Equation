{
 "cells": [
  {
   "cell_type": "markdown",
   "metadata": {},
   "source": [
    "### Onsdag 14/3"
   ]
  },
  {
   "cell_type": "markdown",
   "metadata": {},
   "source": [
    "#### 1. What are we solving"
   ]
  },
  {
   "cell_type": "markdown",
   "metadata": {},
   "source": [
    "##### 2D:\n",
    "$$\n",
    "    u_t = \\nabla \\cdot (g|\\nabla u|) \\nabla u), u(\\mathbf{x}) = f(\\mathbf{x})\n",
    "$$\n",
    "\n",
    "$$\n",
    "    |\\nabla u| = \\sqrt{u_x^2 + u_y^2}\n",
    "$$\n"
   ]
  },
  {
   "cell_type": "markdown",
   "metadata": {},
   "source": [
    "##### 1D:\n",
    "$u_t = (g|u_x|)u_x)_x$ "
   ]
  },
  {
   "cell_type": "markdown",
   "metadata": {},
   "source": [
    "##### Starting example:"
   ]
  },
  {
   "cell_type": "markdown",
   "metadata": {},
   "source": [
    "$g(s) = \\frac{1}{1+s^2}$, using initial conditions:\n",
    "\n",
    "$$\n",
    "f(x) = 5- \\text{tanh}(\\alpha(x-1)) - \\text{tanh}(\\alpha(x-2)) + \\text{tanh}(\\alpha(x-4)) + \\text{tanh}(\\alpha(x-5)) + 0.1\\text{sin}^5x \\text{sin}50x\n",
    "$$"
   ]
  },
  {
   "cell_type": "code",
   "execution_count": 1,
   "metadata": {
    "collapsed": true
   },
   "outputs": [],
   "source": [
    "import numpy as np\n",
    "import matplotlib.pyplot as plt\n",
    "\n",
    "α = 30\n",
    "x = np.linspace(0, 6, 201)\n",
    "\n",
    "f = lambda x, α: 5 - np.tanh(α*(x-1)) - np.tanh(α*(x-2)) \\\n",
    "    + np.tanh(α*(x-4)) + np.tanh(α*(x-5)) \\\n",
    "    + 0.1*np.sin(x)**2 * np.sin(50*x)"
   ]
  },
  {
   "cell_type": "code",
   "execution_count": 2,
   "metadata": {},
   "outputs": [
    {
     "data": {
      "image/png": "[encoded data removed]",
      "text/plain": [
       "<matplotlib.figure.Figure at 0x7fac07b64208>"
      ]
     },
     "metadata": {},
     "output_type": "display_data"
    }
   ],
   "source": [
    "plt.figure()\n",
    "plt.plot(x, f(x, α))\n",
    "plt.show()"
   ]
  },
  {
   "cell_type": "markdown",
   "metadata": {},
   "source": [
    "#### 2. Classification"
   ]
  },
  {
   "cell_type": "markdown",
   "metadata": {},
   "source": [
    "Perona-Malik equation, often referred to as \"Anisotropic Diffusion\", is a time-dependent-nonlinear diffusion equation (parabolic?)"
   ]
  },
  {
   "cell_type": "markdown",
   "metadata": {},
   "source": [
    "Suggest: Forward/Backward euler in 1d case, and Crank Nicolson in 2D case. "
   ]
  },
  {
   "cell_type": "code",
   "execution_count": null,
   "metadata": {
    "collapsed": true
   },
   "outputs": [],
   "source": []
  }
 ],
 "metadata": {
  "kernelspec": {
   "display_name": "Python 3",
   "language": "python",
   "name": "python3"
  },
  "language_info": {
   "codemirror_mode": {
    "name": "ipython",
    "version": 3
   },
   "file_extension": ".py",
   "mimetype": "text/x-python",
   "name": "python",
   "nbconvert_exporter": "python",
   "pygments_lexer": "ipython3",
   "version": "3.6.3"
  }
 },
 "nbformat": 4,
 "nbformat_minor": 2
}
