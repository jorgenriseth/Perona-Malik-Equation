{
 "cells": [
  {
   "cell_type": "code",
   "execution_count": 1,
   "metadata": {
    "collapsed": true
   },
   "outputs": [],
   "source": [
    "import numpy as np\n",
    "import scipy as sp\n",
    "import scipy.sparse as spsp\n",
    "import matplotlib.pyplot as plt\n",
    "from PIL import Image"
   ]
  },
  {
   "cell_type": "code",
   "execution_count": 2,
   "metadata": {
    "collapsed": true
   },
   "outputs": [],
   "source": [
    "# Diffusion function\n",
    "g = lambda s: 1/(1+s)\n",
    "g_exp = lambda s: np.exp(-s**2)\n",
    "\n",
    "f = lambda x, y: x + y\n",
    "\n",
    "def generate_squares2D(N, M):\n",
    "    I = np.zeros((N+2, M+2))\n",
    "    I[:N//2+1, :M//2+1] = 80\n",
    "    I[:N//2+1, -(M//2+1):] = 190\n",
    "    I[-(N//2+1):, :M//2+1] = 140\n",
    "    I[-(N//2+1):, -(M//2+1):] = 230\n",
    "    return I\n",
    "\n",
    "def add_noise2D(I, scale = 10):\n",
    "    N, M = I.shape\n",
    "    N -= 2\n",
    "    M -= 2\n",
    "    I[1:-1, 1:-1] += np.random.rand(N,M) * 5\n",
    "    return I\n",
    "    \n",
    "\n",
    "# Create a random test image\n",
    "def generate_random2D(N, M, scale = 10):\n",
    "    # Generate image of 4 squares\n",
    "    I = generate_squares2D(N, M)\n",
    "    \n",
    "    # Add noise to picture\n",
    "#     I[1:-1, 1:-1] += np.random.rand(N,M) * 5\n",
    "    add_noise2D(I)\n",
    "    return I\n",
    "\n",
    "def load_image( infilename ) :\n",
    "    img = Image.open( infilename )\n",
    "    img.load()\n",
    "    data = np.asarray( img, dtype=\"int32\" )\n",
    "    return data\n",
    "\n",
    "def image_display(V, n, m, cmap = \"gray\"):\n",
    "    image = V.reshape((n, m))\n",
    "    plt.imshow(image, cmap)\n",
    "    plt.show()"
   ]
  },
  {
   "cell_type": "code",
   "execution_count": 8,
   "metadata": {},
   "outputs": [
    {
     "data": {
      "text/plain": [
       "array([[-31.5,  -0. ,  -0. , ...,   0. ,   0. ,   0. ],\n",
       "       [ -0. , -31.5,  -0. , ...,   0. ,   0. ,   0. ],\n",
       "       [ -0. ,  -0. , -31.5, ...,   0. ,   0. ,   0. ],\n",
       "       ..., \n",
       "       [  0. ,   0. ,   0. , ...,  31.5,   0. ,   0. ],\n",
       "       [  0. ,   0. ,   0. , ...,   0. ,  31.5,   0. ],\n",
       "       [  0. ,   0. ,   0. , ...,   0. ,   0. ,  31.5]])"
      ]
     },
     "execution_count": 8,
     "metadata": {},
     "output_type": "execute_result"
    }
   ],
   "source": [
    "Dy"
   ]
  },
  {
   "cell_type": "code",
   "execution_count": 6,
   "metadata": {},
   "outputs": [],
   "source": [
    "# Spatial discretization\n",
    "M = 20\n",
    "N = 20\n",
    "K = (M+2) * (N+2)\n",
    "dx = 1/(M+1)\n",
    "dy = 1/(N+1)\n",
    "\n",
    "# Initial conditions\n",
    "I = generate_random2D(N, M, scale = 2)\n",
    "# I = load_image(\"lena-64x64.jpg\") + np.random.randint(0, 20, (M+2, N+2))\n",
    "\n",
    "\n",
    "# Number of iterations, and timestep\n",
    "T = 10\n",
    "# dt = 1e-1\n",
    "dt = 1e-7\n",
    "r = dt/(2*(dx**2 + dy**2))\n",
    "\n",
    "# Block matrix x-derivative\n",
    "Bx = -1 * np.eye(M+2, k = -1) + np.eye(M+2, k = 1)\n",
    "Bx[0, :3] = [-3, 4, -1]\n",
    "Bx[-1, -3:] = [1, -4, 3]\n",
    "\n",
    "# Differentiation matrix x-direction\n",
    "Dx = np.zeros((K, K))\n",
    "for i in range(N+2):\n",
    "    Dx[i*(M+2):(i+1)*(M+2), i*(M+2):(i+1)*(M+2)] = Bx  \n",
    "Dx /= 2*dx\n",
    "\n",
    "# Differentiation matrix y-direction\n",
    "Dy = -np.eye(K, k = -(M+2)) + np.eye(K, k = M+2)\n",
    "Dy[:(M+2), :3*(M+2)] = np.hstack((-3*np.identity(M+2), 4*np.identity(M+2), -np.identity(M+2)))\n",
    "Dy[-(M+2):, -3*(M+2):] = np.hstack((np.identity(M+2), -4*np.identity(M+2), 3*np.identity(M+2)))\n",
    "Dy /= 2*dy\n",
    "\n",
    "Ξx = np.zeros((K, K))\n",
    "Ωx = np.zeros((K, K))\n",
    "Γx = np.zeros((K, K))\n",
    "\n",
    "Ξy = np.zeros((K, K))\n",
    "Ωy = np.zeros((K, K))\n",
    "Γy = np.zeros((K, K))\n",
    "\n",
    "\n",
    "# Fill in matrices\n",
    "for i in range(1, N+1):\n",
    "    Ξx[i*(M+2):(i+1)*(M+2), i*(M+2):(i+1)*(M+2)] = Xx\n",
    "\n",
    "for i in range(1, N+1):\n",
    "    Ωx[i*(M+2):(i+1)*(M+2), i*(M+2):(i+1)*(M+2)] = Mx\n",
    "\n",
    "for i in range(1, N+1):\n",
    "    Γx[i*(M+2):(i+1)*(M+2), i*(M+2):(i+1)*(M+2)] = Fx\n",
    "\n",
    "for i in range(1, N+1):\n",
    "    Ξy[i*(M+2)+1:(i+1)*(M+2)-1, (i-1)*(M+2)+1:i*(M+2)-1] = np.identity(M)\n",
    "    Ξy[i*(M+2)+1:(i+1)*(M+2)-1, i*(M+2)+1:(i+1)*(M+2)-1] = np.identity(M)\n",
    "\n",
    "for i in range(1, N+1):\n",
    "    Ωy[i*(M+2)+1:(i+1)*(M+2)-1, (i-1)*(M+2)+1:i*(M+2)-1] = -np.identity(M)\n",
    "    Ωy[i*(M+2)+1:(i+1)*(M+2)-1, i*(M+2)+1:(i+1)*(M+2)-1] = -2*np.identity(M)\n",
    "    Ωy[i*(M+2)+1:(i+1)*(M+2)-1, (i+1)*(M+2)+1:(i+2)*(M+2)-1] = -np.identity(M)\n",
    "\n",
    "for i in range(1, N+1):\n",
    "    Γy[i*(M+2)+1:(i+1)*(M+2)-1, i*(M+2)+1:(i+1)*(M+2)-1] = np.identity(M)\n",
    "    Γy[i*(M+2)+1:(i+1)*(M+2)-1, (i+1)*(M+2)+1:(i+2)*(M+2)-1] = np.identity(M)\n",
    "    \n",
    "# Initiate grid\n",
    "U = np.zeros((T, K))\n",
    "U[0] = I.reshape(K)"
   ]
  },
  {
   "cell_type": "code",
   "execution_count": 7,
   "metadata": {},
   "outputs": [
    {
     "data": {
      "text/plain": [
       "array([[-31.5,  42. , -10.5, ...,   0. ,   0. ,   0. ],\n",
       "       [-10.5,   0. ,  10.5, ...,   0. ,   0. ,   0. ],\n",
       "       [  0. , -10.5,   0. , ...,   0. ,   0. ,   0. ],\n",
       "       ..., \n",
       "       [  0. ,   0. ,   0. , ...,   0. ,  10.5,   0. ],\n",
       "       [  0. ,   0. ,   0. , ..., -10.5,   0. ,  10.5],\n",
       "       [  0. ,   0. ,   0. , ...,  10.5, -42. ,  31.5]])"
      ]
     },
     "execution_count": 7,
     "metadata": {},
     "output_type": "execute_result"
    }
   ],
   "source": [
    "Dx"
   ]
  },
  {
   "cell_type": "markdown",
   "metadata": {},
   "source": [
    "## Implisitt"
   ]
  },
  {
   "cell_type": "code",
   "execution_count": null,
   "metadata": {
    "scrolled": false
   },
   "outputs": [],
   "source": [
    "# Perform iteration\n",
    "dt = 5e-5\n",
    "r = dt/(2*(dx**2 + dy**2))\n",
    "for it in range(T-1):\n",
    "    G = g(Dx.dot(U[it])**2 + Dy.dot(U[it])**2)\n",
    "        \n",
    "    ξx = Ξx.dot(G)\n",
    "    ωx = Ωx.dot(G)\n",
    "    γx = Γx.dot(G)\n",
    "\n",
    "    ξy = Ξy.dot(G)\n",
    "    ωy = Ωy.dot(G)\n",
    "    γy = Γy.dot(G)\n",
    "    \n",
    "    # Construct scheme matrix\n",
    "    x_diags = (ξx[1:], ωx, γx[:-1])\n",
    "    y_diags = (ξy[(M+2):], ωy, γy[:-(M+2)])\n",
    "    Ax = spsp.diags(x_diags, (-1, 0, 1)).toarray()/(2*dx**2)\n",
    "    Ay = spsp.diags(y_diags, (-(M+2), 0, M+2)).toarray()/(2*dy**2)\n",
    "    A = Ax + Ay\n",
    "    \n",
    "    U[it+1] = np.linalg.solve((np.identity(K) + r * A), U[it])\n",
    "    \n",
    "    # Debug\n",
    "    if it%1 == 0:\n",
    "        print(it)\n",
    "        plt.figure(figsize=(16, 8))\n",
    "        plt.subplot(143)\n",
    "        plt.imshow(G.reshape(N+2, M+2), cmap = \"gray\")\n",
    "        plt.subplot(144)\n",
    "        plt.imshow(A.dot(U[it]).reshape(N+2, M+2), cmap = \"gray\")\n",
    "        plt.subplot(142)\n",
    "        plt.imshow((Dy.dot(U[0])**2 + Dx.dot(U[0])**2).reshape(N+2, M+2), cmap = \"gray\")\n",
    "        plt.subplot(141)\n",
    "        plt.imshow(U[it].reshape(N+2, M+2), cmap = \"gray\")\n",
    "        plt.show()"
   ]
  },
  {
   "cell_type": "code",
   "execution_count": null,
   "metadata": {},
   "outputs": [],
   "source": [
    "np.linalg.norm(U[6]-U[0])"
   ]
  },
  {
   "cell_type": "code",
   "execution_count": null,
   "metadata": {},
   "outputs": [],
   "source": [
    "# Display initial conditinos\n",
    "# plt.imshow(U[0].reshape(N+2, M+2), cmap = \"gray\")\n",
    "# plt.show()\n",
    "\n",
    "# Perform iterations\n",
    "for it in range(T-1):\n",
    "    G = g(Dx.dot(U[it])**2 + Dy.dot(U[it])**2)\n",
    "        \n",
    "    ξx = Ξx.dot(G)\n",
    "    ωx = Ωx.dot(G)\n",
    "    γx = Γx.dot(G)\n",
    "\n",
    "    ξy = Ξy.dot(G)\n",
    "    ωy = Ωy.dot(G)\n",
    "    γy = Γy.dot(G)\n",
    "    \n",
    "    # Construct scheme matrix\n",
    "    x_diags = (ξx[1:], ωx, γx[:-1])\n",
    "    y_diags = (ξy[(M+2):], ωy, γy[:-(M+2)])\n",
    "    Ax = spsp.diags(x_diags, (-1, 0, 1)).toarray()/(2*dx**2)\n",
    "    Ay = spsp.diags(y_diags, (-(M+2), 0, M+2)).toarray()/(2*dy**2)\n",
    "    A = Ax + Ay\n",
    "    \n",
    "    U[it+1] = (np.identity(K) - r * A).dot(U[it])\n",
    "    \n",
    "    # Debug\n",
    "    if it%1 == 0:\n",
    "        print(it)\n",
    "        plt.figure(figsize=(12, 8))\n",
    "        plt.subplot(141)\n",
    "        plt.imshow(G.reshape(N+2, M+2), cmap = \"gray\")\n",
    "        plt.subplot(142)\n",
    "        plt.imshow(A.dot(np.ones(K)).reshape(N+2, M+2), cmap = \"gray\")#A.dot(U[it]).reshape(N+2, M+2), cmap = \"gray\")\n",
    "        plt.subplot(143)\n",
    "        plt.imshow((Dy.dot(U[0])**2 + Dx.dot(U[0])**2).reshape(N+2, M+2), cmap = \"gray\")\n",
    "        plt.subplot(144)\n",
    "        plt.imshow(U[it].reshape(N+2, M+2), cmap = \"gray\")\n",
    "        plt.show()"
   ]
  }
 ],
 "metadata": {
  "kernelspec": {
   "display_name": "Python 3",
   "language": "python",
   "name": "python3"
  },
  "language_info": {
   "codemirror_mode": {
    "name": "ipython",
    "version": 3
   },
   "file_extension": ".py",
   "mimetype": "text/x-python",
   "name": "python",
   "nbconvert_exporter": "python",
   "pygments_lexer": "ipython3",
   "version": "3.6.3"
  }
 },
 "nbformat": 4,
 "nbformat_minor": 2
}
