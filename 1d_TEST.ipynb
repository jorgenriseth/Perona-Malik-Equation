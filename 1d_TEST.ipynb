{
 "cells": [
  {
   "cell_type": "code",
   "execution_count": 1,
   "metadata": {
    "collapsed": true
   },
   "outputs": [],
   "source": [
    "import numpy as np\n",
    "import matplotlib.pyplot as plt\n",
    "import numpy as np\n",
    "from PIL import Image"
   ]
  },
  {
   "cell_type": "markdown",
   "metadata": {},
   "source": [
    "### Elias Image-creator"
   ]
  },
  {
   "cell_type": "code",
   "execution_count": 2,
   "metadata": {},
   "outputs": [
    {
     "data": {
      "image/png": "[encoded data removed]",
      "text/plain": [
       "<matplotlib.figure.Figure at 0x7f081a956dd8>"
      ]
     },
     "metadata": {},
     "output_type": "display_data"
    },
    {
     "data": {
      "text/plain": [
       "array([  10.,   10.,   10.,   10.,   10.,   10.,   10.,   10.,   10.,\n",
       "         10.,   10.,   10.,   10.,   10.,   10.,   10.,   10.,   10.,\n",
       "         10.,   10.,   10.,   10.,   10.,   10.,   10.,   10.,   10.,\n",
       "         10.,   10.,   10.,   10.,  150.,  150.,  150.,  150.,  150.,\n",
       "        150.,  150.,  150.,  150.,  150.,  150.,  150.,  150.,  150.,\n",
       "        150.,  150.,  150.,  150.,  150.,  150.,  150.,  150.,  150.,\n",
       "        150.,  150.,  150.,  150.,  150.,  150.,  150.,  150.])"
      ]
     },
     "execution_count": 2,
     "metadata": {},
     "output_type": "execute_result"
    }
   ],
   "source": [
    "M = 60\n",
    "N = 60\n",
    "I = np.zeros((M+2, N+2))\n",
    "I[:N//2+1, :M//2+1] = 10\n",
    "I[:N//2+1, -(M//2+1):] = 150\n",
    "I[-(N//2+1):, :M//2+1] = 80\n",
    "I[-(N//2+1):, -(M//2+1):] = 200\n",
    "I = I #+ np.random.rand(N+2,M+2)*20\n",
    "plt.imshow(I, cmap = \"gray\")\n",
    "plt.show()\n",
    "I[8]"
   ]
  },
  {
   "cell_type": "code",
   "execution_count": 3,
   "metadata": {
    "collapsed": true
   },
   "outputs": [],
   "source": [
    "g = lambda s: 1/(1+s)"
   ]
  },
  {
   "cell_type": "code",
   "execution_count": 4,
   "metadata": {
    "collapsed": true
   },
   "outputs": [],
   "source": [
    "def f(x, alpha):\n",
    "    first = 5-np.tanh(alpha*(x-1))-np.tanh(alpha*(x-2))\n",
    "    second = np.tanh(alpha*(x-4)) + np.tanh(alpha*(x-5)) + 0.1*(np.sin(5*x))**2*np.sin(50*x)\n",
    "    return first+second"
   ]
  },
  {
   "cell_type": "code",
   "execution_count": 5,
   "metadata": {
    "collapsed": true
   },
   "outputs": [],
   "source": [
    "M = 10\n",
    "N = 5000\n",
    "x = np.linspace(0, 6, M + 2)\n",
    "h = 6/(M+1)\n",
    "k = 0.01 #1/(N+1)\n",
    "alpha = 30\n",
    "r = k/(2*h**2)\n",
    "\n",
    "U = np.zeros((N, M+2)) \n",
    "U[0] = f(x, alpha)\n",
    "#U[0] = I[8] + np.random.normal(size = (N+2,M+2))[8]*20\n",
    "U[:,0] = U[0,0]\n",
    "U[:,-1] = U[0, -1]"
   ]
  },
  {
   "cell_type": "code",
   "execution_count": 6,
   "metadata": {},
   "outputs": [
    {
     "data": {
      "text/plain": [
       "array([ 0.        , -1.87073501, -1.83464413, -1.72666139, -1.91201094,\n",
       "       -0.06006506,  0.07099324,  1.82144712,  1.84884945,  1.87226995,\n",
       "        1.72483523,  0.        ])"
      ]
     },
     "execution_count": 6,
     "metadata": {},
     "output_type": "execute_result"
    }
   ],
   "source": [
    "Dx = (-1 * np.eye(M+2, M+2, k = -1) + np.eye(M+2, M+2, k = 1))/(2*h)\n",
    "Dx[0,:] = 0\n",
    "Dx[-1,:] = 0\n",
    "Dx\n",
    "Dx.dot(U[0])\n",
    "# g(Dx.dot(U[0])**2)"
   ]
  },
  {
   "cell_type": "code",
   "execution_count": 7,
   "metadata": {
    "collapsed": true
   },
   "outputs": [],
   "source": [
    "# Forward difference matrix(with backward for last)\n",
    "Dx = -1 * np.eye(M+2,k = 0) + 1 * np.eye(M+2, k = 1)\n",
    "Dx[-1, -2:] = [-1, 1]\n",
    "Dx = Dx/h"
   ]
  },
  {
   "cell_type": "code",
   "execution_count": 8,
   "metadata": {
    "collapsed": true,
    "scrolled": false
   },
   "outputs": [],
   "source": [
    "A = np.zeros((M, M+2))\n",
    "\n",
    "for i in range(N-1):\n",
    "#     if i == 1228:\n",
    "#         print(U[i])\n",
    "#         print(Dx)\n",
    "#         print((Dx.dot(U[i])**2))\n",
    "#         print((np.eye(M, M+2, k = 1) + np.eye(M, M+2, k = 2)).dot(G))\n",
    "#         print((np.eye(M, M+2) + 2 * np.eye(M, M+2, k = 1) + np.eye(M, M+2, k = 2)).dot(G))\n",
    "#         print((np.eye(M, M+2) + np.eye(M, M+2, k = 1)).dot(G))\n",
    "    G = g(Dx.dot(U[i])**2)\n",
    "    β = (np.eye(M, M+2, k = 1) + np.eye(M, M+2, k = 2)).dot(G)\n",
    "    α = (np.eye(M, M+2) + 2 * np.eye(M, M+2, k = 1) + np.eye(M, M+2, k = 2)).dot(G)\n",
    "    γ = (np.eye(M, M+2) + np.eye(M, M+2, k = 1)).dot(G)\n",
    "    for j in range(M-1):\n",
    "        A[j, j:j+3] = [β[j], -α[j], γ[j]]\n",
    "    U[i+1, 1:-1] = U[i, 1:-1] + r * A.dot(U[i])\n",
    "#     U[i+1, 0] = U[i+1, 1]\n",
    "#     U[i+1, -1] = U[i+1, -2]\n"
   ]
  },
  {
   "cell_type": "code",
   "execution_count": 9,
   "metadata": {
    "scrolled": true
   },
   "outputs": [
    {
     "data": {
      "image/png": "[encoded data removed]",
      "text/plain": [
       "<matplotlib.figure.Figure at 0x7f081282b6a0>"
      ]
     },
     "metadata": {},
     "output_type": "display_data"
    }
   ],
   "source": [
    "plt.figure()\n",
    "# plt.plot(x, I[8])\n",
    "plt.plot(U[0])\n",
    "plt.show()"
   ]
  },
  {
   "cell_type": "code",
   "execution_count": 10,
   "metadata": {},
   "outputs": [
    {
     "ename": "SyntaxError",
     "evalue": "invalid syntax (<ipython-input-10-f4693d79c8c3>, line 2)",
     "output_type": "error",
     "traceback": [
      "\u001b[0;36m  File \u001b[0;32m\"<ipython-input-10-f4693d79c8c3>\"\u001b[0;36m, line \u001b[0;32m2\u001b[0m\n\u001b[0;31m    plt.plot(x, U[])\u001b[0m\n\u001b[0m                  ^\u001b[0m\n\u001b[0;31mSyntaxError\u001b[0m\u001b[0;31m:\u001b[0m invalid syntax\n"
     ]
    }
   ],
   "source": [
    "plt.figure()\n",
    "plt.plot(x, U)\n",
    "# plt.plot(x, I[8])\n",
    "plt.show()"
   ]
  }
 ],
 "metadata": {
  "kernelspec": {
   "display_name": "Python 3",
   "language": "python",
   "name": "python3"
  },
  "language_info": {
   "codemirror_mode": {
    "name": "ipython",
    "version": 3
   },
   "file_extension": ".py",
   "mimetype": "text/x-python",
   "name": "python",
   "nbconvert_exporter": "python",
   "pygments_lexer": "ipython3",
   "version": "3.6.3"
  }
 },
 "nbformat": 4,
 "nbformat_minor": 2
}
