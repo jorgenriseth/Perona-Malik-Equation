{
 "cells": [
  {
   "cell_type": "code",
   "execution_count": 220,
   "metadata": {
    "collapsed": true
   },
   "outputs": [],
   "source": [
    "import numpy as np\n",
    "import matplotlib.pyplot as plt\n",
    "import numpy as np\n",
    "from PIL import Image"
   ]
  },
  {
   "cell_type": "markdown",
   "metadata": {},
   "source": [
    "### Elias Image-creator"
   ]
  },
  {
   "cell_type": "code",
   "execution_count": 284,
   "metadata": {},
   "outputs": [
    {
     "data": {
      "image/png": "[encoded data removed]",
      "text/plain": [
       "<matplotlib.figure.Figure at 0x7f7cb0eb56a0>"
      ]
     },
     "metadata": {},
     "output_type": "display_data"
    },
    {
     "data": {
      "text/plain": [
       "array([  10.,   10.,   10.,   10.,   10.,   10.,   10.,   10.,   10.,\n",
       "         10.,   10.,   10.,   10.,   10.,   10.,   10.,   10.,   10.,\n",
       "         10.,   10.,   10.,   10.,   10.,   10.,   10.,   10.,   10.,\n",
       "         10.,   10.,   10.,   10.,  150.,  150.,  150.,  150.,  150.,\n",
       "        150.,  150.,  150.,  150.,  150.,  150.,  150.,  150.,  150.,\n",
       "        150.,  150.,  150.,  150.,  150.,  150.,  150.,  150.,  150.,\n",
       "        150.,  150.,  150.,  150.,  150.,  150.,  150.,  150.])"
      ]
     },
     "execution_count": 284,
     "metadata": {},
     "output_type": "execute_result"
    }
   ],
   "source": [
    "M = 60\n",
    "N = 60\n",
    "I = np.zeros((M+2, N+2))\n",
    "I[:N//2+1, :M//2+1] = 10\n",
    "I[:N//2+1, -(M//2+1):] = 150\n",
    "I[-(N//2+1):, :M//2+1] = 80\n",
    "I[-(N//2+1):, -(M//2+1):] = 200\n",
    "I = I #+ np.random.rand(N+2,M+2)*20\n",
    "plt.imshow(I, cmap = \"gray\")\n",
    "plt.show()\n",
    "I[8]"
   ]
  },
  {
   "cell_type": "code",
   "execution_count": 285,
   "metadata": {
    "collapsed": true
   },
   "outputs": [],
   "source": [
    "g = lambda s: 1/(1+s)"
   ]
  },
  {
   "cell_type": "code",
   "execution_count": 286,
   "metadata": {
    "collapsed": true
   },
   "outputs": [],
   "source": [
    "def f(x, alpha):\n",
    "    first = 5-np.tanh(alpha*(x-1))-np.tanh(alpha*(x-2))\n",
    "    second = np.tanh(alpha*(x-4)) + np.tanh(alpha*(x-5)) + 0.1*(np.sin(5*x))**2*np.sin(50*x)\n",
    "    return first+second"
   ]
  },
  {
   "cell_type": "code",
   "execution_count": 287,
   "metadata": {},
   "outputs": [
    {
     "data": {
      "text/plain": [
       "1.6549875868622037"
      ]
     },
     "execution_count": 287,
     "metadata": {},
     "output_type": "execute_result"
    }
   ],
   "source": [
    "np.random.normal()"
   ]
  },
  {
   "cell_type": "code",
   "execution_count": 288,
   "metadata": {
    "collapsed": true
   },
   "outputs": [],
   "source": [
    "# M = 20\n",
    "N = 20000\n",
    "x = np.linspace(0, 6, M + 2)\n",
    "h = 6/(M+1)\n",
    "k = 0.008  #1/(N+1)\n",
    "alpha = 30\n",
    "r = k/(2*h**2)\n",
    "\n",
    "U = np.zeros((N, M+2)) \n",
    "# U[0] = f(x, alpha)\n",
    "U[0] = I[8] + np.random.normal(size = (N+2,M+2))[8]*20\n",
    "U[:,0] = U[0,0]\n",
    "U[:,-1] = U[0, -1]"
   ]
  },
  {
   "cell_type": "code",
   "execution_count": 289,
   "metadata": {},
   "outputs": [
    {
     "data": {
      "text/plain": [
       "array([  1.00000000e+00,   3.52376440e-05,   6.68264439e-04,\n",
       "         5.73597060e-04,   4.17967440e-05,   1.11685018e-04,\n",
       "         2.47392995e-05,   1.33856197e-03,   1.80510886e-04,\n",
       "         2.28926298e-03,   2.72505995e-05,   1.21536048e-05,\n",
       "         2.87868994e-04,   2.70287747e-05,   2.45263150e-04,\n",
       "         9.32115748e-05,   4.72565511e-05,   3.54849625e-04,\n",
       "         1.03486103e-05,   1.77071553e-05,   5.86459250e-05,\n",
       "         1.58953400e-05,   9.26737171e-05,   1.14341474e-04,\n",
       "         3.56110467e-05,   3.53770084e-04,   1.77593671e-01,\n",
       "         1.63071955e-05,   3.37464866e-05,   6.59737967e-06,\n",
       "         9.40940805e-07,   8.13394020e-07,   3.31586964e-07,\n",
       "         4.21274930e-07,   3.46666785e-07,   4.83368242e-07,\n",
       "         3.96216575e-07,   4.07827559e-07,   4.25127283e-07,\n",
       "         4.47950573e-07,   3.63496533e-07,   4.20268621e-07,\n",
       "         4.48188319e-07,   3.55915813e-07,   5.55141272e-07,\n",
       "         3.62317172e-07,   4.43543544e-07,   4.82576905e-07,\n",
       "         3.59542365e-07,   5.52885744e-07,   3.92132207e-07,\n",
       "         3.95605630e-07,   4.06143785e-07,   3.70513291e-07,\n",
       "         2.83271203e-07,   4.29463639e-07,   2.95739543e-07,\n",
       "         4.68663070e-07,   4.55682940e-07,   5.45865996e-07,\n",
       "         6.26306048e-07,   1.00000000e+00])"
      ]
     },
     "execution_count": 289,
     "metadata": {},
     "output_type": "execute_result"
    }
   ],
   "source": [
    "Dx = (np.eye(M+2, M+2, k = -1) + np.eye(M+2, M+2, k = 1))/(2*h)\n",
    "Dx[0,:] = 0\n",
    "Dx[-1,:] = 0\n",
    "Dx.dot(U[0])**2\n",
    "g(Dx.dot(U[0])**2)"
   ]
  },
  {
   "cell_type": "code",
   "execution_count": 290,
   "metadata": {
    "scrolled": false
   },
   "outputs": [],
   "source": [
    "A = np.zeros((M, M+2))\n",
    "\n",
    "for i in range(N-1):\n",
    "#     if i == 1228:\n",
    "#         print(U[i])\n",
    "#         print(Dx)\n",
    "#         print((Dx.dot(U[i])**2))\n",
    "#         print((np.eye(M, M+2, k = 1) + np.eye(M, M+2, k = 2)).dot(G))\n",
    "#         print((np.eye(M, M+2) + 2 * np.eye(M, M+2, k = 1) + np.eye(M, M+2, k = 2)).dot(G))\n",
    "#         print((np.eye(M, M+2) + np.eye(M, M+2, k = 1)).dot(G))\n",
    "    G = g(Dx.dot(U[i])**2)\n",
    "    β = (np.eye(M, M+2, k = 1) + np.eye(M, M+2, k = 2)).dot(G)\n",
    "    α = (np.eye(M, M+2) + 2 * np.eye(M, M+2, k = 1) + np.eye(M, M+2, k = 2)).dot(G)\n",
    "    γ = (np.eye(M, M+2) + np.eye(M, M+2, k = 1)).dot(G)\n",
    "    for j in range(M-1):\n",
    "        A[j, j:j+3] = [β[j], -α[j], γ[j]]\n",
    "    U[i+1, 1:-1] = U[i, 1:-1] + r * A.dot(U[i])\n",
    "    U[i+1, 0] = U[i+1, 1]\n",
    "    U[i+1, -1] = U[i+1, -2]\n"
   ]
  },
  {
   "cell_type": "code",
   "execution_count": 295,
   "metadata": {},
   "outputs": [
    {
     "ename": "AttributeError",
     "evalue": "module 'numpy' has no attribute 'id'",
     "output_type": "error",
     "traceback": [
      "\u001b[0;31m---------------------------------------------------------------------------\u001b[0m",
      "\u001b[0;31mAttributeError\u001b[0m                            Traceback (most recent call last)",
      "\u001b[0;32m<ipython-input-295-0f169c2f9afb>\u001b[0m in \u001b[0;36m<module>\u001b[0;34m()\u001b[0m\n\u001b[0;32m----> 1\u001b[0;31m \u001b[0mnp\u001b[0m\u001b[0;34m.\u001b[0m\u001b[0mid\u001b[0m\u001b[0;34m(\u001b[0m\u001b[0;36m3\u001b[0m\u001b[0;34m)\u001b[0m\u001b[0;34m\u001b[0m\u001b[0m\n\u001b[0m",
      "\u001b[0;31mAttributeError\u001b[0m: module 'numpy' has no attribute 'id'"
     ]
    }
   ],
   "source": [
    "np.id(3"
   ]
  },
  {
   "cell_type": "code",
   "execution_count": 303,
   "metadata": {},
   "outputs": [
    {
     "ename": "TypeError",
     "evalue": "only integer scalar arrays can be converted to a scalar index",
     "output_type": "error",
     "traceback": [
      "\u001b[0;31m---------------------------------------------------------------------------\u001b[0m",
      "\u001b[0;31mTypeError\u001b[0m                                 Traceback (most recent call last)",
      "\u001b[0;32m<ipython-input-303-d8b8fd6b75ee>\u001b[0m in \u001b[0;36m<module>\u001b[0;34m()\u001b[0m\n\u001b[1;32m      7\u001b[0m     \u001b[0;32mfor\u001b[0m \u001b[0mj\u001b[0m \u001b[0;32min\u001b[0m \u001b[0mrange\u001b[0m\u001b[0;34m(\u001b[0m\u001b[0;36m1\u001b[0m\u001b[0;34m,\u001b[0m \u001b[0mM\u001b[0m\u001b[0;34m-\u001b[0m\u001b[0;36m1\u001b[0m\u001b[0;34m)\u001b[0m\u001b[0;34m:\u001b[0m\u001b[0;34m\u001b[0m\u001b[0m\n\u001b[1;32m      8\u001b[0m         \u001b[0mA\u001b[0m\u001b[0;34m[\u001b[0m\u001b[0mj\u001b[0m\u001b[0;34m,\u001b[0m \u001b[0mj\u001b[0m\u001b[0;34m:\u001b[0m\u001b[0mj\u001b[0m\u001b[0;34m+\u001b[0m\u001b[0;36m3\u001b[0m\u001b[0;34m]\u001b[0m \u001b[0;34m=\u001b[0m \u001b[0;34m[\u001b[0m\u001b[0mβ\u001b[0m\u001b[0;34m[\u001b[0m\u001b[0mj\u001b[0m\u001b[0;34m]\u001b[0m\u001b[0;34m,\u001b[0m \u001b[0;34m-\u001b[0m\u001b[0mα\u001b[0m\u001b[0;34m[\u001b[0m\u001b[0mj\u001b[0m\u001b[0;34m]\u001b[0m\u001b[0;34m,\u001b[0m \u001b[0mγ\u001b[0m\u001b[0;34m[\u001b[0m\u001b[0mj\u001b[0m\u001b[0;34m]\u001b[0m\u001b[0;34m]\u001b[0m\u001b[0;34m\u001b[0m\u001b[0m\n\u001b[0;32m----> 9\u001b[0;31m     \u001b[0mU\u001b[0m\u001b[0;34m[\u001b[0m\u001b[0mi\u001b[0m\u001b[0;34m+\u001b[0m\u001b[0;36m1\u001b[0m\u001b[0;34m]\u001b[0m \u001b[0;34m=\u001b[0m \u001b[0mnp\u001b[0m\u001b[0;34m.\u001b[0m\u001b[0mlinalg\u001b[0m\u001b[0;34m.\u001b[0m\u001b[0msolve\u001b[0m\u001b[0;34m(\u001b[0m\u001b[0mnp\u001b[0m\u001b[0;34m.\u001b[0m\u001b[0meye\u001b[0m\u001b[0;34m(\u001b[0m\u001b[0mnp\u001b[0m\u001b[0;34m.\u001b[0m\u001b[0midentity\u001b[0m\u001b[0;34m(\u001b[0m\u001b[0mM\u001b[0m\u001b[0;34m+\u001b[0m\u001b[0;36m2\u001b[0m\u001b[0;34m)\u001b[0m\u001b[0;34m-\u001b[0m\u001b[0mr\u001b[0m\u001b[0;34m*\u001b[0m\u001b[0mA\u001b[0m\u001b[0;34m,\u001b[0m \u001b[0mU\u001b[0m\u001b[0;34m[\u001b[0m\u001b[0mi\u001b[0m\u001b[0;34m]\u001b[0m\u001b[0;34m)\u001b[0m\u001b[0;34m)\u001b[0m\u001b[0;34m\u001b[0m\u001b[0m\n\u001b[0m",
      "\u001b[0;32m~/Misc/anaconda3/lib/python3.6/site-packages/numpy/lib/twodim_base.py\u001b[0m in \u001b[0;36meye\u001b[0;34m(N, M, k, dtype)\u001b[0m\n\u001b[1;32m    178\u001b[0m     \u001b[0;32mif\u001b[0m \u001b[0mM\u001b[0m \u001b[0;32mis\u001b[0m \u001b[0;32mNone\u001b[0m\u001b[0;34m:\u001b[0m\u001b[0;34m\u001b[0m\u001b[0m\n\u001b[1;32m    179\u001b[0m         \u001b[0mM\u001b[0m \u001b[0;34m=\u001b[0m \u001b[0mN\u001b[0m\u001b[0;34m\u001b[0m\u001b[0m\n\u001b[0;32m--> 180\u001b[0;31m     \u001b[0mm\u001b[0m \u001b[0;34m=\u001b[0m \u001b[0mzeros\u001b[0m\u001b[0;34m(\u001b[0m\u001b[0;34m(\u001b[0m\u001b[0mN\u001b[0m\u001b[0;34m,\u001b[0m \u001b[0mM\u001b[0m\u001b[0;34m)\u001b[0m\u001b[0;34m,\u001b[0m \u001b[0mdtype\u001b[0m\u001b[0;34m=\u001b[0m\u001b[0mdtype\u001b[0m\u001b[0;34m)\u001b[0m\u001b[0;34m\u001b[0m\u001b[0m\n\u001b[0m\u001b[1;32m    181\u001b[0m     \u001b[0;32mif\u001b[0m \u001b[0mk\u001b[0m \u001b[0;34m>=\u001b[0m \u001b[0mM\u001b[0m\u001b[0;34m:\u001b[0m\u001b[0;34m\u001b[0m\u001b[0m\n\u001b[1;32m    182\u001b[0m         \u001b[0;32mreturn\u001b[0m \u001b[0mm\u001b[0m\u001b[0;34m\u001b[0m\u001b[0m\n",
      "\u001b[0;31mTypeError\u001b[0m: only integer scalar arrays can be converted to a scalar index"
     ]
    }
   ],
   "source": [
    "A = np.zeros((M+2, M+2))\n",
    "for i in range(N-1):\n",
    "    G = g(Dx.dot(U[i])**2)\n",
    "    β = (np.eye(M, M+2, k = 1) + np.eye(M, M+2, k = 2)).dot(G)\n",
    "    α = (np.eye(M, M+2) + 2 * np.eye(M, M+2, k = 1) + np.eye(M, M+2, k = 2)).dot(G)\n",
    "    γ = (np.eye(M, M+2) + np.eye(M, M+2, k = 1)).dot(G)\n",
    "    for j in range(1, M-1):\n",
    "        A[j, j:j+3] = [β[j], -α[j], γ[j]]\n",
    "    U[i+1] = np.linalg.solve(np.eye(np.identity(M+2)-r*A, U[i]))"
   ]
  },
  {
   "cell_type": "code",
   "execution_count": 304,
   "metadata": {
    "scrolled": true
   },
   "outputs": [
    {
     "data": {
      "image/png": "[encoded data removed]",
      "text/plain": [
       "<matplotlib.figure.Figure at 0x7f7cbe008ac8>"
      ]
     },
     "metadata": {},
     "output_type": "display_data"
    }
   ],
   "source": [
    "plt.figure()\n",
    "plt.plot(x, I[8])\n",
    "plt.plot(x, U[0])\n",
    "plt.show()"
   ]
  },
  {
   "cell_type": "code",
   "execution_count": 305,
   "metadata": {},
   "outputs": [
    {
     "data": {
      "image/png": "[encoded data removed]",
      "text/plain": [
       "<matplotlib.figure.Figure at 0x7f7cbe008278>"
      ]
     },
     "metadata": {},
     "output_type": "display_data"
    }
   ],
   "source": [
    "plt.figure()\n",
    "plt.plot(x, U[-1])\n",
    "plt.plot(x, I[8])\n",
    "plt.show()"
   ]
  },
  {
   "cell_type": "code",
   "execution_count": null,
   "metadata": {
    "collapsed": true
   },
   "outputs": [],
   "source": []
  }
 ],
 "metadata": {
  "kernelspec": {
   "display_name": "Python 3",
   "language": "python",
   "name": "python3"
  },
  "language_info": {
   "codemirror_mode": {
    "name": "ipython",
    "version": 3
   },
   "file_extension": ".py",
   "mimetype": "text/x-python",
   "name": "python",
   "nbconvert_exporter": "python",
   "pygments_lexer": "ipython3",
   "version": "3.6.3"
  }
 },
 "nbformat": 4,
 "nbformat_minor": 2
}
